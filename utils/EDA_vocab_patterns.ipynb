# notebooks/EDA_vocab_patterns.ipynb

# This is a Jupyter notebook placeholder. Below is code you'd use inside it.

import pandas as pd
import matplotlib.pyplot as plt
import seaborn as sns

# Load vocab stats
vocab = pd.read_csv("../data/parsed_output/user_vocab_stats.csv")

# Top 20 most frequent words
top_words = vocab.sort_values(by="frequency", ascending=False).head(20)

plt.figure(figsize=(10, 6))
sns.barplot(data=top_words, x="frequency", y="word", palette="muted")
plt.title("Top 20 Frequent Words in Transcript")
plt.xlabel("Frequency")
plt.ylabel("Word")
plt.tight_layout()
plt.show()

# Distribution of word difficulty
plt.figure(figsize=(6, 4))
sns.histplot(data=vocab, x="difficulty", bins=5, kde=False)
plt.title("Word Difficulty Distribution")
plt.xlabel("Difficulty")
plt.ylabel("Count")
plt.tight_layout()
plt.show()
